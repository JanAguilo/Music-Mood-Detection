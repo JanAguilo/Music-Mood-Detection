{
 "cells": [
  {
   "cell_type": "code",
   "execution_count": 3,
   "metadata": {},
   "outputs": [
    {
     "name": "stdout",
     "output_type": "stream",
     "text": [
      "                          Model  Accuracy\n",
      "0                 Random Forest  0.833333\n",
      "1  Support Vector Machine (SVM)  0.166667\n",
      "2           Logistic Regression  0.083333\n",
      "3     K-Nearest Neighbors (KNN)  0.333333\n",
      "4                 Decision Tree  0.583333\n",
      "5             Gradient Boosting  0.750000\n"
     ]
    }
   ],
   "source": [
    "import pandas as pd\n",
    "from sklearn.model_selection import train_test_split\n",
    "from sklearn.ensemble import RandomForestClassifier, GradientBoostingClassifier\n",
    "from sklearn.svm import SVC\n",
    "from sklearn.linear_model import LogisticRegression\n",
    "from sklearn.neighbors import KNeighborsClassifier\n",
    "from sklearn.tree import DecisionTreeClassifier\n",
    "from sklearn.metrics import accuracy_score, classification_report, confusion_matrix\n",
    "\n",
    "processed_train_df = pd.read_csv('Processed_TrainSet.csv')\n",
    "y = processed_train_df['class']\n",
    "X = processed_train_df.drop(columns=['class'])\n",
    "X_train, X_val, y_train, y_val = train_test_split(X, y, test_size=0.2, random_state=42)\n",
    "\n",
    "best_features = [\"SFm\", \"Km\", \"Asm\", \"FMm\"]\n",
    "\n",
    "models = {\n",
    "    \"Random Forest\": RandomForestClassifier(n_estimators=100, random_state=42),\n",
    "    \"Support Vector Machine (SVM)\": SVC(kernel='rbf', C=1.0, random_state=42),\n",
    "    \"Logistic Regression\": LogisticRegression(max_iter=1000, random_state=42),\n",
    "    \"K-Nearest Neighbors (KNN)\": KNeighborsClassifier(n_neighbors=5),\n",
    "    \"Decision Tree\": DecisionTreeClassifier(random_state=42),\n",
    "    \"Gradient Boosting\": GradientBoostingClassifier(n_estimators=100, random_state=42)\n",
    "}\n",
    "\n",
    "results = []\n",
    "\n",
    "for name, model in models.items():\n",
    "    model.fit(X_train[best_features], y_train)\n",
    "    predictions = model.predict(X_val[best_features])\n",
    "    accuracy = accuracy_score(y_val, predictions)\n",
    "    report = classification_report(y_val, predictions, output_dict=True, zero_division=0)\n",
    "    cm = confusion_matrix(y_val, predictions)\n",
    "    results.append({\"Model\": name, \"Accuracy\": accuracy, \"Classification Report\": report, \"Confusion Matrix\": cm})\n",
    "\n",
    "accuracy_df = pd.DataFrame([{\"Model\": res[\"Model\"], \"Accuracy\": res[\"Accuracy\"]} for res in results])\n",
    "print(accuracy_df)"
   ]
  }
 ],
 "metadata": {
  "kernelspec": {
   "display_name": "Python 3",
   "language": "python",
   "name": "python3"
  },
  "language_info": {
   "codemirror_mode": {
    "name": "ipython",
    "version": 3
   },
   "file_extension": ".py",
   "mimetype": "text/x-python",
   "name": "python",
   "nbconvert_exporter": "python",
   "pygments_lexer": "ipython3",
   "version": "3.12.3"
  }
 },
 "nbformat": 4,
 "nbformat_minor": 2
}
