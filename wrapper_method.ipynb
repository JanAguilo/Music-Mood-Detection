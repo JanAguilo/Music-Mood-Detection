{
 "cells": [
  {
   "cell_type": "code",
   "execution_count": 1,
   "metadata": {},
   "outputs": [],
   "source": [
    "# Import necessary libraries\n",
    "import pandas as pd\n",
    "import numpy as np\n",
    "from sklearn.ensemble import RandomForestClassifier\n",
    "from sklearn.feature_selection import RFE, SequentialFeatureSelector\n",
    "from sklearn.model_selection import train_test_split\n",
    "\n",
    "# Load the filtered dataset\n",
    "filtered_path = \"Filtered_TrainSet.csv\"  # Ensure the correct file path\n",
    "filtered_train_df = pd.read_csv(filtered_path)\n",
    "\n",
    "# Separate features and target variable\n",
    "X = filtered_train_df.drop(columns=[\"class\"])  # Features\n",
    "y = filtered_train_df[\"class\"]  # Target\n",
    "\n",
    "# Split into training and validation sets (to make selection more robust)\n",
    "X_train, X_val, y_train, y_val = train_test_split(X, y, test_size=0.2, random_state=42)\n"
   ]
  },
  {
   "cell_type": "markdown",
   "metadata": {},
   "source": [
    "### 1️. APPLY RFE (RECURSIVE FEATURE ELIMINATION) ###"
   ]
  },
  {
   "cell_type": "code",
   "execution_count": 2,
   "metadata": {},
   "outputs": [],
   "source": [
    "# Initialize the Random Forest model\n",
    "rf_model = RandomForestClassifier(n_estimators=100, random_state=42)\n",
    "\n",
    "# Apply RFE to select the best features (keeping top 10 features)\n",
    "rfe = RFE(estimator=rf_model, n_features_to_select=10)\n",
    "rfe.fit(X_train, y_train)\n",
    "\n",
    "# Get selected features from RFE\n",
    "rfe_selected_features = X.columns[rfe.support_].tolist()"
   ]
  },
  {
   "cell_type": "markdown",
   "metadata": {},
   "source": [
    "### 2️. APPLY FORWARD SELECTION (SFS) ###"
   ]
  },
  {
   "cell_type": "code",
   "execution_count": 3,
   "metadata": {},
   "outputs": [],
   "source": [
    "sfs = SequentialFeatureSelector(rf_model, n_features_to_select=10, direction=\"forward\")\n",
    "sfs.fit(X_train, y_train)\n",
    "\n",
    "# Get selected features from SFS\n",
    "sfs_selected_features = X.columns[sfs.support_].tolist()\n"
   ]
  },
  {
   "cell_type": "markdown",
   "metadata": {},
   "source": [
    "# Save the selected features from both methods\n"
   ]
  },
  {
   "cell_type": "code",
   "execution_count": 4,
   "metadata": {},
   "outputs": [
    {
     "name": "stdout",
     "output_type": "stream",
     "text": [
      "Top 10 Features Selected by RFE:\n",
      "['SFm', 'EDm', 'RSm', 'Em', 'RGm', 'Asm', 'RTm', 'RSd', 'ESm', 'RTd']\n",
      "\n",
      "Top 10 Features Selected by Forward Selection (SFS):\n",
      "['EDm', 'Em', 'El', 'RGm', 'Rm', 'RTm', 'ESm', 'Km', 'RTd', 'RGd']\n"
     ]
    }
   ],
   "source": [
    "selected_features_df = pd.DataFrame({\n",
    "    \"RFE_Selected\": rfe_selected_features + [\"\"] * (10 - len(rfe_selected_features)),\n",
    "    \"SFS_Selected\": sfs_selected_features + [\"\"] * (10 - len(sfs_selected_features))\n",
    "})\n",
    "\n",
    "\n",
    "# Print results\n",
    "print(\"Top 10 Features Selected by RFE:\")\n",
    "print(rfe_selected_features)\n",
    "\n",
    "print(\"\\nTop 10 Features Selected by Forward Selection (SFS):\")\n",
    "print(sfs_selected_features)"
   ]
  }
 ],
 "metadata": {
  "kernelspec": {
   "display_name": "Python 3",
   "language": "python",
   "name": "python3"
  },
  "language_info": {
   "codemirror_mode": {
    "name": "ipython",
    "version": 3
   },
   "file_extension": ".py",
   "mimetype": "text/x-python",
   "name": "python",
   "nbconvert_exporter": "python",
   "pygments_lexer": "ipython3",
   "version": "3.11.9"
  }
 },
 "nbformat": 4,
 "nbformat_minor": 2
}
