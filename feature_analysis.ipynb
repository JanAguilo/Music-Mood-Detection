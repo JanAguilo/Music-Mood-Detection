{
 "cells": [
  {
   "cell_type": "code",
   "execution_count": null,
   "metadata": {},
   "outputs": [
    {
     "name": "stdout",
     "output_type": "stream",
     "text": [
      "      Feature Combination  Accuracy\n",
      "217   (SFm, Km, Asm, FMm)  0.833333\n",
      "22             (RTm, Asm)  0.833333\n",
      "51             (EDm, FMm)  0.833333\n",
      "307  (RTm, Asm, EDm, FMm)  0.833333\n",
      "277    (RTm, Km, Em, RSm)  0.833333\n",
      "122         (Km, RTd, Em)  0.750000\n",
      "109       (RTm, Asm, EDm)  0.750000\n",
      "204   (SFm, Km, RTd, Asm)  0.750000\n",
      "110        (RTm, Asm, Em)  0.750000\n",
      "207   (SFm, Km, RTd, RSm)  0.750000\n"
     ]
    }
   ],
   "source": [
    "import pandas as pd\n",
    "from sklearn.model_selection import train_test_split\n",
    "from itertools import combinations\n",
    "from sklearn.ensemble import RandomForestClassifier\n",
    "from sklearn.metrics import accuracy_score\n",
    "\n",
    "processed_train_df = pd.read_csv('Processed_TrainSet.csv')\n",
    "y = processed_train_df['class']\n",
    "X = processed_train_df.drop(columns=['class'])\n",
    "X_train, X_val, y_train, y_val = train_test_split(X, y, test_size=0.2, random_state=42)\n",
    "\n",
    "top_10_features = [\"SFm\", \"RTm\", \"Km\", \"RTd\", \"SCd\", \"Asm\", \"EDm\", \"Em\", \"RSm\", \"FMm\"]\n",
    "\n",
    "rf_model = RandomForestClassifier(n_estimators=100, random_state=42)\n",
    "accuracy_results = {}\n",
    "\n",
    "max_features_in_combination = 4\n",
    "\n",
    "for i in range(1, max_features_in_combination + 1):\n",
    "    for feature_subset in combinations(top_10_features, i):\n",
    "        rf_model.fit(X_train[list(feature_subset)], y_train)\n",
    "        predictions = rf_model.predict(X_val[list(feature_subset)])\n",
    "        accuracy = accuracy_score(y_val, predictions)\n",
    "        accuracy_results[tuple(feature_subset)] = accuracy\n",
    "\n",
    "accuracy_df = pd.DataFrame(accuracy_results.items(), columns=[\"Feature Combination\", \"Accuracy\"])\n",
    "accuracy_df = accuracy_df.sort_values(by=\"Accuracy\", ascending=False)\n",
    "print(accuracy_df.head(10))\n"
   ]
  },
  {
   "cell_type": "code",
   "execution_count": null,
   "metadata": {},
   "outputs": [],
   "source": []
  }
 ],
 "metadata": {
  "kernelspec": {
   "display_name": "Python 3",
   "language": "python",
   "name": "python3"
  },
  "language_info": {
   "codemirror_mode": {
    "name": "ipython",
    "version": 3
   },
   "file_extension": ".py",
   "mimetype": "text/x-python",
   "name": "python",
   "nbconvert_exporter": "python",
   "pygments_lexer": "ipython3",
   "version": "3.12.3"
  }
 },
 "nbformat": 4,
 "nbformat_minor": 2
}
