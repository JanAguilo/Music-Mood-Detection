{
 "cells": [
  {
   "cell_type": "code",
   "execution_count": 3,
   "metadata": {},
   "outputs": [
    {
     "name": "stdout",
     "output_type": "stream",
     "text": [
      "Preprocessing completed. Data is cleaned and ready for feature selection.\n"
     ]
    }
   ],
   "source": [
    "import pandas as pd\n",
    "from sklearn.preprocessing import LabelEncoder, StandardScaler\n",
    "\n",
    "# Load the datasets\n",
    "train_path = \"data4-Bio/TrainSet.csv\"\n",
    "test_path = \"data4-Bio/TestSet.csv\"\n",
    "train_df = pd.read_csv(train_path)\n",
    "test_df = pd.read_csv(test_path)\n",
    "\n",
    "# Drop filename column (not useful for classification)\n",
    "train_df.drop(columns=['File_Name'], inplace=True)\n",
    "test_df.drop(columns=['File_Name'], inplace=True)\n",
    "\n",
    "# Handle missing values (impute numerical features with median)\n",
    "numeric_cols = train_df.select_dtypes(include=['float64', 'int64']).columns\n",
    "train_df[numeric_cols] = train_df[numeric_cols].fillna(train_df[numeric_cols].median())\n",
    "test_df[numeric_cols] = test_df[numeric_cols].fillna(test_df[numeric_cols].median())\n",
    "\n",
    "# Encode categorical target variable\n",
    "label_encoder = LabelEncoder()\n",
    "train_df['class'] = label_encoder.fit_transform(train_df['class'])\n",
    "\n",
    "# Normalize numerical features\n",
    "scaler = StandardScaler()\n",
    "train_df[numeric_cols] = scaler.fit_transform(train_df[numeric_cols])\n",
    "test_df[numeric_cols] = scaler.transform(test_df[numeric_cols])\n",
    "\n",
    "# Save processed datasets\n",
    "train_df.to_csv(\"data4-Bio/Processed_TrainSet.csv\", index=False)\n",
    "test_df.to_csv(\"data4-Bio/Processed_TestSet.csv\", index=False)\n",
    "\n",
    "print(\"Preprocessing completed. Data is cleaned and ready for feature selection.\")"
   ]
  }
 ],
 "metadata": {
  "kernelspec": {
   "display_name": "Python 3",
   "language": "python",
   "name": "python3"
  },
  "language_info": {
   "codemirror_mode": {
    "name": "ipython",
    "version": 3
   },
   "file_extension": ".py",
   "mimetype": "text/x-python",
   "name": "python",
   "nbconvert_exporter": "python",
   "pygments_lexer": "ipython3",
   "version": "3.12.3"
  }
 },
 "nbformat": 4,
 "nbformat_minor": 2
}
